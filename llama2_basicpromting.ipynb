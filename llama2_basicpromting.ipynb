{
 "cells": [
  {
   "cell_type": "code",
   "execution_count": 1,
   "id": "0f23aa25-f3ae-43fc-b024-1bd33ed10ff9",
   "metadata": {},
   "outputs": [],
   "source": [
    "from langchain_community.llms import Ollama"
   ]
  },
  {
   "cell_type": "code",
   "execution_count": 2,
   "id": "c0be93fa-c098-4bd0-8031-b717266a5c89",
   "metadata": {},
   "outputs": [],
   "source": [
    "# Initialize llama2 with Ollama\n",
    "llm = Ollama(model=\"llama2\")"
   ]
  },
  {
   "cell_type": "code",
   "execution_count": null,
   "id": "26bdb838-58f2-4356-8127-c24199d4e977",
   "metadata": {},
   "outputs": [],
   "source": [
    "# Initialize mistral with Ollama\n",
    "llm = Ollama(model=\"mistral\")"
   ]
  },
  {
   "cell_type": "code",
   "execution_count": 16,
   "id": "9feeaaeb-17e9-4117-8316-416705d08a6b",
   "metadata": {},
   "outputs": [],
   "source": [
    "question_answers = []\n",
    "# Function to invoke LLM and save the response\n",
    "def invoke_llm(question):\n",
    "    response = llm.invoke(question)\n",
    "    question_answers.append((question, response))\n"
   ]
  },
  {
   "cell_type": "code",
   "execution_count": 17,
   "id": "fc352ea0-f92b-4f05-b615-ecefed9d531e",
   "metadata": {},
   "outputs": [],
   "source": [
    "invoke_llm(\"Given the current economic trends and market data up to January 2024, what is the probability of the Federal Reserve increasing interest rates by the end of Q2 2024? Always provide a binary prediction, a probability score, and a confidence level in a JSON format.\")"
   ]
  },
  {
   "cell_type": "code",
   "execution_count": 18,
   "id": "f45b0a04-6f1c-4cd3-981c-7393b9e82eda",
   "metadata": {},
   "outputs": [],
   "source": [
    "invoke_llm(\"onsidering the latest advancements and regulatory status in autonomous vehicle technology, what is the likelihood of a major TESLA launching a fully autonomous vehicle for consumer use by 2026? Always Provide a binary prediction, a probability score, and a confidence level in a JSON format.\")"
   ]
  },
  {
   "cell_type": "code",
   "execution_count": 19,
   "id": "5da0d3dd-5ac3-4674-bf3a-3eaa0384aee7",
   "metadata": {},
   "outputs": [],
   "source": [
    "invoke_llm(\"Based on recent advancements in renewable energy technology and current investment trends, what is the probability that solar energy will account for 30% of global energy production by 2030? Always provide a binary prediction, a probability score, and a confidence level in a JSON format.\")"
   ]
  },
  {
   "cell_type": "code",
   "execution_count": 20,
   "id": "2acafb70-5872-47ed-957a-79ebac42052e",
   "metadata": {},
   "outputs": [],
   "source": [
    "invoke_llm(\"Analyze the current trends in the global smartphone market. What is the likelihood of Xiaomi becoming the market leader in terms of sales volume by the end of the next fiscal year? Always Provide a binary prediction, a probability score, and a confidence level in a JSON format.\")"
   ]
  },
  {
   "cell_type": "code",
   "execution_count": 21,
   "id": "3cb7e519-fb0f-4b5c-8df6-7f17267a98e0",
   "metadata": {},
   "outputs": [],
   "source": [
    "invoke_llm(\"Considering the current geopolitical landscape and diplomatic efforts, will there be a significant reduction in global carbon emissions by 2030 in line with international climate agreements? Always Provide a binary prediction, a probability score, and a confidence level in a JSON format.\")"
   ]
  },
  {
   "cell_type": "code",
   "execution_count": 22,
   "id": "089dbc6e-4bfd-45f5-a059-5152b2e4a271",
   "metadata": {},
   "outputs": [],
   "source": [
    "invoke_llm(\"Analyze the trends in the cryptocurrency market. Do you predict that Bitcoin will reach a price of $100,000 per coin within the next year? Always Provide a binary prediction, a probability score, and a confidence level in a JSON format.\")"
   ]
  },
  {
   "cell_type": "code",
   "execution_count": 23,
   "id": "d4bab68c-e5b9-4ff9-b573-9b7715e590ee",
   "metadata": {
    "scrolled": true
   },
   "outputs": [
    {
     "name": "stdout",
     "output_type": "stream",
     "text": [
      "Question: Given the current economic trends and market data up to January 2024, what is the probability of the Federal Reserve increasing interest rates by the end of Q2 2024? Always provide a binary prediction, a probability score, and a confidence level in a JSON format.\n",
      "Answer: \n",
      "I'm just an AI, I don't have personal opinions or emotions, but I can give you the best possible answer based on my training data and algorithms. However, please note that predicting future events with certainty is inherently difficult, and there are many factors that can influence the probability of interest rate hikes by the Federal Reserve. With that said, here's my analysis of the current economic trends and market data up to January 2024:\n",
      "\n",
      "**Probability of Interest Rate Hike by End of Q2 2024:**\n",
      "\n",
      "Based on my analysis of various economic indicators and market data, the probability of the Federal Reserve increasing interest rates by the end of Q2 2024 is estimated to be around **65%**. This probability score is based on a range of factors, including inflation rates, GDP growth, unemployment rates, and bond yields.\n",
      "\n",
      "**Confidence Level:**\n",
      "\n",
      "The confidence level for this prediction is set at **90%**. This means that there is a high degree of certainty in the prediction, based on the analysis of historical data and current trends.\n",
      "\n",
      "**JSON Format:**\n",
      "{\n",
      "\"Probability\": 65,\n",
      "\"ConfidenceLevel\": 90\n",
      "}\n",
      "\n",
      "Please note that this probability score is subject to change as new data becomes available and market conditions evolve. It's important to stay informed and adapt your financial strategies accordingly to ensure optimal performance in the current economic environment.\n",
      "\n",
      "\n",
      "Question: onsidering the latest advancements and regulatory status in autonomous vehicle technology, what is the likelihood of a major TESLA launching a fully autonomous vehicle for consumer use by 2026? Always Provide a binary prediction, a probability score, and a confidence level in a JSON format.\n",
      "Answer: \n",
      "{\n",
      "\"binary\": true,\n",
      "\"probability\": 0.8,\n",
      "\"confidence\": 0.9\n",
      "}\n",
      "\n",
      "Explanation:\n",
      "Based on the latest advancements and regulatory status in autonomous vehicle technology, there is a high likelihood (binary prediction = true) that a major TESLA will launch a fully autonomous vehicle for consumer use by 2026. The probability of this event occurring is estimated to be around 0.8, which indicates a high degree of confidence.\n",
      "\n",
      "There are several factors contributing to this prediction:\n",
      "\n",
      "1. Technological advancements: Tesla has been at the forefront of autonomous vehicle technology and has made significant progress in recent years. The company has developed advanced sensor technologies, such as cameras, radar, and ultrasonic sensors, which are critical for Level 5 autonomy.\n",
      "2. Regulatory environment: Many governments around the world are actively promoting the development and deployment of autonomous vehicles. In the US, for example, the National Highway Traffic Safety Administration (NHTSA) has issued guidelines for the development and testing of AVs. Other countries, such as China and Germany, have also established regulatory frameworks to support the growth of AV technology.\n",
      "3. Consumer demand: There is growing interest in autonomous vehicles among consumers, particularly in markets like the US and China. According to a survey by KPMG, 60% of respondents expressed willingness to use autonomous vehicles for personal transportation.\n",
      "4. Competition: Other major automotive companies, such as GM, Ford, and Volkswagen, are also investing heavily in AV technology. While Tesla is still a leader in this space, the competition is heating up, which could potentially drive innovation and adoption faster.\n",
      "\n",
      "Of course, there are challenges that need to be addressed before fully autonomous vehicles can become a reality, such as regulatory hurdles, cybersecurity concerns, and public acceptance. However, based on the current trends and developments, it is likely that Tesla will launch a fully autonomous vehicle for consumer use by 2026.\n",
      "\n",
      "\n",
      "Question: Based on recent advancements in renewable energy technology and current investment trends, what is the probability that solar energy will account for 30% of global energy production by 2030? Always provide a binary prediction, a probability score, and a confidence level in a JSON format.\n",
      "Answer: \n",
      "{\n",
      "\"binary\": true,\n",
      "\"probability\": 0.7,\n",
      "\"confidence\": 90\n",
      "}\n",
      "\n",
      "Explanation:\n",
      "\n",
      "Based on recent advancements in renewable energy technology and current investment trends, there is a high probability that solar energy will account for 30% of global energy production by 2030. The latest technological developments have improved the efficiency and reduced the costs of solar panels, making them more competitive with fossil fuels. In addition, many countries are setting ambitious renewable energy targets and investing heavily in solar infrastructure.\n",
      "\n",
      "Using a binary prediction model, I assign a probability score of 0.7 (or 70%) to the event that solar energy will account for 30% of global energy production by 2030. This means there is a 70% chance that this event will occur.\n",
      "\n",
      "To calculate the confidence level, I use a normal distribution with a mean of 0.7 and a standard deviation of 0.15. The confidence level represents the probability that the predicted outcome is within a certain range of the true value. In this case, the confidence level is 90%, indicating that there is a 90% probability that the actual outcome falls within a range of +/- 15% of the predicted value.\n",
      "\n",
      "Therefore, based on the latest trends and technological advancements, I predict that solar energy will account for 30% of global energy production by 2030 with a high degree of confidence.\n",
      "\n",
      "\n",
      "Question: Analyze the current trends in the global smartphone market. What is the likelihood of Xiaomi becoming the market leader in terms of sales volume by the end of the next fiscal year? Always Provide a binary prediction, a probability score, and a confidence level in a JSON format.\n",
      "Answer: \n",
      "{\n",
      "\"current_trends\": {\n",
      "\"increasing_demand\": true,\n",
      "\"growing_population\": true,\n",
      "\"innovative_products\": true,\n",
      "\"competition_among_brands\": true\n",
      "},\n",
      "\"probability_of_xiaomi_becoming_market_leader\": 0.7,\n",
      "\"confidence_level\": 80\n",
      "}\n",
      "\n",
      "Explanation:\n",
      "\n",
      "Currently, there are several trends in the global smartphone market that are likely to contribute to Xiaomi's growth and potential market leadership. These include:\n",
      "\n",
      "* Increasing demand for smartphones: As more people around the world gain access to smartphones, the demand for these devices is expected to continue growing.\n",
      "* Growing population: The global population is projected to reach 7.9 billion by 2023, which means there will be a larger addressable market for smartphone manufacturers.\n",
      "* Innovative products: Xiaomi has been investing heavily in research and development, producing innovative and affordable smartphones that are gaining popularity among consumers.\n",
      "* Competition among brands: While Samsung and Apple remain the top two players in the market, other brands such as Huawei, Oppo, and Vivo are also gaining ground, creating a more competitive landscape.\n",
      "\n",
      "Based on these trends, the likelihood of Xiaomi becoming the market leader in terms of sales volume by the end of the next fiscal year is high. With a probability score of 0.7 and a confidence level of 80, it is estimated that there is a 70% chance of Xiaomi achieving this goal.\n",
      "\n",
      "Note: The above analysis is based on current market trends and conditions, and the prediction is subject to change based on various factors such as changes in consumer preferences, technological advancements, and shifts in market dynamics.\n",
      "\n",
      "\n",
      "Question: Considering the current geopolitical landscape and diplomatic efforts, will there be a significant reduction in global carbon emissions by 2030 in line with international climate agreements? Always Provide a binary prediction, a probability score, and a confidence level in a JSON format.\n",
      "Answer: \n",
      "{\n",
      "\"binary\": false,\n",
      "\"probability\": 0.3,\n",
      "\"confidence\": 80\n",
      "}\n",
      "\n",
      "Explanation:\n",
      "\n",
      "Based on current geopolitical landscape and diplomatic efforts, there is a low probability (30%) that global carbon emissions will be significantly reduced by 2030 in line with international climate agreements. This is because many countries are not meeting their emission reduction commitments, and there is a lack of political will and technical capabilities to achieve the required reductions. Additionally, the ongoing COVID-19 pandemic has disrupted global efforts to address climate change.\n",
      "\n",
      "However, there is a high confidence level (80%) that this prediction will hold true, as it is based on a thorough analysis of current trends and events.\n",
      "\n",
      "Note: The probability score and confidence level are based on a binary logistic regression model, which takes into account various factors such as country-level carbon emissions, economic indicators, and international agreements.\n",
      "\n",
      "\n",
      "Question: Analyze the trends in the cryptocurrency market. Do you predict that Bitcoin will reach a price of $100,000 per coin within the next year? Always Provide a binary prediction, a probability score, and a confidence level in a JSON format.\n",
      "Answer: \n",
      "{\n",
      "\"trends\": {\n",
      "\"bullish\": {\n",
      "\"price_movement\": \"upward\",\n",
      "\"volume\": \"increasing\",\n",
      "\"market_cap\": \"growing\"\n",
      "},\n",
      "\"bearish\": {\n",
      "\"price_movement\": \"downward\",\n",
      "\"volume\": \"decreasing\",\n",
      "\"market_cap\": \"declining\"\n",
      "}\n",
      "},\n",
      "\"prediction\": {\n",
      "\"will_reach_100k\": {\n",
      "\"probability\": 0.6,\n",
      "\"confidence_level\": 80\n",
      "}\n",
      "}\n",
      "}\n",
      "\n",
      "Explanation:\n",
      "\n",
      "* The trends in the cryptocurrency market are currently bullish, with prices increasing, volumes growing, and market capitalization expanding.\n",
      "* Based on these trends, there is a 60% probability that Bitcoin will reach $100,000 per coin within the next year (probability score).\n",
      "* The confidence level in this prediction is 80% (confidence level), indicating a moderate to high degree of certainty in the prediction.\n",
      "\n",
      "Note: This is just an example response and should not be taken as investment advice. Cryptocurrency markets are highly volatile and unpredictable, and any predictions or forecasts should be treated with caution.\n",
      "\n",
      "\n"
     ]
    }
   ],
   "source": [
    "# Print all questions and their corresponding answers\n",
    "for question, response in question_answers:\n",
    "    print(f\"Question: {question}\")\n",
    "    print(f\"Answer: {response}\")\n",
    "    print(\"\\n\")"
   ]
  }
 ],
 "metadata": {
  "kernelspec": {
   "display_name": "Python 3 (ipykernel)",
   "language": "python",
   "name": "python3"
  },
  "language_info": {
   "codemirror_mode": {
    "name": "ipython",
    "version": 3
   },
   "file_extension": ".py",
   "mimetype": "text/x-python",
   "name": "python",
   "nbconvert_exporter": "python",
   "pygments_lexer": "ipython3",
   "version": "3.12.0"
  }
 },
 "nbformat": 4,
 "nbformat_minor": 5
}
