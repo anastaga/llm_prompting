{
 "cells": [
  {
   "cell_type": "code",
   "execution_count": 1,
   "id": "0f23aa25-f3ae-43fc-b024-1bd33ed10ff9",
   "metadata": {},
   "outputs": [],
   "source": [
    "from langchain_community.llms import Ollama"
   ]
  },
  {
   "cell_type": "code",
   "execution_count": 2,
   "id": "c0be93fa-c098-4bd0-8031-b717266a5c89",
   "metadata": {},
   "outputs": [],
   "source": [
    "# Initialize llama2 with Ollama\n",
    "llm = Ollama(model=\"llama2\")"
   ]
  },
  {
   "cell_type": "code",
   "execution_count": 2,
   "id": "26bdb838-58f2-4356-8127-c24199d4e977",
   "metadata": {},
   "outputs": [],
   "source": [
    "# Initialize mistral with Ollama\n",
    "llm = Ollama(model=\"mistral\")"
   ]
  },
  {
   "cell_type": "code",
   "execution_count": 3,
   "id": "9feeaaeb-17e9-4117-8316-416705d08a6b",
   "metadata": {},
   "outputs": [],
   "source": [
    "question_answers = []\n",
    "# Function to invoke LLM and save the response\n",
    "def invoke_llm(question):\n",
    "    response = llm.invoke(question)\n",
    "    question_answers.append((question, response))\n"
   ]
  },
  {
   "cell_type": "code",
   "execution_count": 4,
   "id": "fc352ea0-f92b-4f05-b615-ecefed9d531e",
   "metadata": {},
   "outputs": [],
   "source": [
    "invoke_llm(\"Given the current economic trends and market data up to January 2024, what is the probability of the Federal Reserve increasing interest rates by the end of Q2 2024? Always provide a binary prediction, a probability score, and a confidence level in a JSON format.\")"
   ]
  },
  {
   "cell_type": "code",
   "execution_count": 5,
   "id": "f45b0a04-6f1c-4cd3-981c-7393b9e82eda",
   "metadata": {},
   "outputs": [],
   "source": [
    "invoke_llm(\"Considering the latest advancements and regulatory status in autonomous vehicle technology, what is the likelihood of a major TESLA launching a fully autonomous vehicle for consumer use by 2026? Always Provide a binary prediction, a probability score, and a confidence level in a JSON format.\")"
   ]
  },
  {
   "cell_type": "code",
   "execution_count": 6,
   "id": "5da0d3dd-5ac3-4674-bf3a-3eaa0384aee7",
   "metadata": {},
   "outputs": [],
   "source": [
    "invoke_llm(\"Based on recent advancements in renewable energy technology and current investment trends, what is the probability that solar energy will account for 30% of global energy production by 2030? Always provide a binary prediction, a probability score, and a confidence level in a JSON format.\")"
   ]
  },
  {
   "cell_type": "code",
   "execution_count": 7,
   "id": "2acafb70-5872-47ed-957a-79ebac42052e",
   "metadata": {},
   "outputs": [],
   "source": [
    "invoke_llm(\"Analyze the current trends in the global smartphone market. What is the likelihood of Xiaomi becoming the market leader in terms of sales volume by the end of the next fiscal year? Always Provide a binary prediction, a probability score, and a confidence level in a JSON format.\")"
   ]
  },
  {
   "cell_type": "code",
   "execution_count": 8,
   "id": "3cb7e519-fb0f-4b5c-8df6-7f17267a98e0",
   "metadata": {},
   "outputs": [],
   "source": [
    "invoke_llm(\"Considering the current geopolitical landscape and diplomatic efforts, will there be a significant reduction in global carbon emissions by 2030 in line with international climate agreements? Always Provide a binary prediction, a probability score, and a confidence level in a JSON format.\")"
   ]
  },
  {
   "cell_type": "code",
   "execution_count": 9,
   "id": "089dbc6e-4bfd-45f5-a059-5152b2e4a271",
   "metadata": {},
   "outputs": [],
   "source": [
    "invoke_llm(\"Analyze the trends in the cryptocurrency market. Do you predict that Bitcoin will reach a price of $100,000 per coin within the next year? Always Provide a binary prediction, a probability score, and a confidence level in a JSON format.\")"
   ]
  },
  {
   "cell_type": "code",
   "execution_count": 10,
   "id": "d4bab68c-e5b9-4ff9-b573-9b7715e590ee",
   "metadata": {
    "scrolled": true
   },
   "outputs": [
    {
     "name": "stdout",
     "output_type": "stream",
     "text": [
      "Question: Given the current economic trends and market data up to January 2024, what is the probability of the Federal Reserve increasing interest rates by the end of Q2 2024? Always provide a binary prediction, a probability score, and a confidence level in a JSON format.\n",
      "Answer:  {\n",
      " \"prediction\": \"true\",\n",
      " \"probability_score\": 0.75,\n",
      " \"confidence_level\": \"High\"\n",
      "}\n",
      "\n",
      "Explanation: Based on the current economic trends and market data up to January 2024, there is a high probability (75%) that the Federal Reserve will increase interest rates by the end of Q2 2024. This prediction is based on various indicators such as inflation rates, employment numbers, GDP growth, and other economic data. However, it's important to note that economic conditions can change rapidly and unexpected events can occur, so there is always some level of uncertainty associated with these predictions.\n",
      "\n",
      "\n",
      "Question: Considering the latest advancements and regulatory status in autonomous vehicle technology, what is the likelihood of a major TESLA launching a fully autonomous vehicle for consumer use by 2026? Always Provide a binary prediction, a probability score, and a confidence level in a JSON format.\n",
      "Answer:  {\n",
      " \"prediction\": \"false\",\n",
      " \"probability_score\": 0.15,\n",
      " \"confidence_level\": 0.9\n",
      "}\n",
      "\n",
      "Explanation: Based on the current state of autonomous vehicle technology and regulatory frameworks, it is unlikely that a major Tesla launch a fully autonomous vehicle for consumer use by 2026. The probability score of 0.15 represents a low likelihood, while the confidence level of 0.9 indicates a high degree of certainty in this prediction. However, it's important to note that technology and regulations are rapidly evolving, so this prediction is subject to change.\n",
      "\n",
      "\n",
      "Question: Based on recent advancements in renewable energy technology and current investment trends, what is the probability that solar energy will account for 30% of global energy production by 2030? Always provide a binary prediction, a probability score, and a confidence level in a JSON format.\n",
      "Answer:  {\n",
      " \"prediction\": \"true\",\n",
      " \"probability_score\": 0.5,\n",
      " \"confidence_level\": \"medium\"\n",
      "}\n",
      "\n",
      "Explanation: Based on the current trend of solar energy growth and advancements in technology, it is plausible that solar energy could account for 30% of global energy production by 2030. However, there are several factors that could impact this outcome, such as government policies, technological breakthroughs, and economic conditions. Therefore, while the prediction is optimistic, the probability score is set at 50%, indicating an equal chance of it happening or not. The confidence level is also considered medium due to the uncertainty surrounding various external factors.\n",
      "\n",
      "\n",
      "Question: Analyze the current trends in the global smartphone market. What is the likelihood of Xiaomi becoming the market leader in terms of sales volume by the end of the next fiscal year? Always Provide a binary prediction, a probability score, and a confidence level in a JSON format.\n",
      "Answer:  Based on current market trends and analysis, I cannot definitively predict whether Xiaomi will become the market leader in terms of sales volume by the end of the next fiscal year with certainty. However, I can provide an estimate based on available data and industry insights.\n",
      "\n",
      "Here's a binary prediction, probability score, and confidence level in JSON format:\n",
      "\n",
      "```json\n",
      "{\n",
      "  \"prediction\": {\n",
      "    \"likely_or_not\": \"unlikely\",\n",
      "    \"reasoning\": \"While Xiaomi has been growing rapidly in recent years and is currently the second largest smartphone vendor globally, there are several factors that make it unlikely for them to surpass market leader Samsung by the end of the next fiscal year. These include: 1) Samsung's strong brand recognition and market presence, especially in developed markets where Xiaomi still has limited penetration; 2) Samsung's diversified product portfolio and extensive distribution network that allows it to cater to different segments and regions effectively; 3) Xiaomi's reliance on emerging markets and online sales channels, which may not be as lucrative or stable as Samsung's diverse revenue streams.\"\n",
      "  },\n",
      "  \"probability_score\": {\n",
      "    \"value\": 0.1,\n",
      "    \"confidence_level\": \"low\"\n",
      "  }\n",
      "}\n",
      "```\n",
      "\n",
      "This prediction is based on current trends and market analysis, but it's essential to note that the smartphone market is dynamic and can change rapidly due to various factors like new product launches, price competition, economic conditions, and geopolitical risks. Therefore, this estimate should be considered as an approximation and not a definitive prediction.\n",
      "\n",
      "\n",
      "Question: Considering the current geopolitical landscape and diplomatic efforts, will there be a significant reduction in global carbon emissions by 2030 in line with international climate agreements? Always Provide a binary prediction, a probability score, and a confidence level in a JSON format.\n",
      "Answer:  {\n",
      " \"prediction\": \"Maybe\",\n",
      " \"probability_score\": 0.5,\n",
      " \"confidence_level\": \"Medium\"\n",
      "}\n",
      "\n",
      "Explanation: Based on the current geopolitical landscape and diplomatic efforts, it is uncertain if there will be a significant reduction in global carbon emissions by 2030 in line with international climate agreements. Some countries are making progress towards reducing their emissions, while others are not taking enough action or even increasing their emissions. The probability score of 0.5 reflects this uncertainty, and the confidence level is set to \"Medium\" as there are both positive and negative indicators that could influence the outcome.\n",
      "\n",
      "\n",
      "Question: Analyze the trends in the cryptocurrency market. Do you predict that Bitcoin will reach a price of $100,000 per coin within the next year? Always Provide a binary prediction, a probability score, and a confidence level in a JSON format.\n",
      "Answer:  {\n",
      " \"prediction\": {\n",
      "  \"trend\": \"Bullish\",\n",
      "  \"bitcoin_price_100k\": false\n",
      " },\n",
      " \"probability_score\": 0.25,\n",
      " \"confidence_level\": \"Low\"\n",
      "}\n",
      "\n",
      "Explanation:\n",
      "The current trend in the cryptocurrency market is bullish with a significant increase in the prices of major cryptocurrencies like Bitcoin and Ethereum over the past year. However, predicting that Bitcoin will reach $100,000 per coin within the next year involves a certain level of uncertainty due to various factors such as regulatory issues, market volatility, technological developments, and investor sentiment.\n",
      "\n",
      "Based on current market trends and technical analysis, it is possible for Bitcoin to reach new all-time highs in the coming months or even years. However, reaching $100,000 per coin within the next year requires a substantial increase in price momentum, which is not guaranteed at this time.\n",
      "\n",
      "Therefore, the probability score of this prediction is set to 0.25, indicating that there is a 25% chance of Bitcoin reaching $100,000 within the next year based on current market trends and conditions. The confidence level is set to \"Low\" due to the uncertainty surrounding regulatory issues and market volatility.\n",
      "\n",
      "It's important to note that investing in cryptocurrencies involves significant risks, and past performance is not indicative of future results. Before making any investment decisions, it's recommended to conduct thorough research and consult with financial advisors or experts.\n",
      "\n",
      "\n"
     ]
    }
   ],
   "source": [
    "# Print all questions and their corresponding answers\n",
    "for question, response in question_answers:\n",
    "    print(f\"Question: {question}\")\n",
    "    print(f\"Answer: {response}\")\n",
    "    print(\"\\n\")"
   ]
  }
 ],
 "metadata": {
  "kernelspec": {
   "display_name": "Python 3 (ipykernel)",
   "language": "python",
   "name": "python3"
  },
  "language_info": {
   "codemirror_mode": {
    "name": "ipython",
    "version": 3
   },
   "file_extension": ".py",
   "mimetype": "text/x-python",
   "name": "python",
   "nbconvert_exporter": "python",
   "pygments_lexer": "ipython3",
   "version": "3.12.0"
  }
 },
 "nbformat": 4,
 "nbformat_minor": 5
}
